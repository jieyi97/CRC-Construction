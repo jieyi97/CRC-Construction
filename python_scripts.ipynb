{
 "cells": [
  {
   "cell_type": "markdown",
   "id": "894f05c4",
   "metadata": {},
   "source": [
    "# regex test"
   ]
  },
  {
   "cell_type": "code",
   "execution_count": null,
   "id": "ef50d053",
   "metadata": {},
   "outputs": [],
   "source": [
    "import os\n",
    "import re"
   ]
  },
  {
   "cell_type": "code",
   "execution_count": 4,
   "id": "55afb576",
   "metadata": {},
   "outputs": [
    {
     "data": {
      "text/plain": [
       "'/project/NeuralNet/CRC/ChIP-seq/mapping/STAR/rmdup_bam'"
      ]
     },
     "execution_count": 4,
     "metadata": {},
     "output_type": "execute_result"
    }
   ],
   "source": [
    "os.getcwd()"
   ]
  },
  {
   "cell_type": "code",
   "execution_count": 3,
   "id": "2849d5f6",
   "metadata": {},
   "outputs": [],
   "source": [
    "os.chdir(os.getcwd()+\"/rmdup_bam/\")"
   ]
  },
  {
   "cell_type": "code",
   "execution_count": 5,
   "id": "efc2cf4a",
   "metadata": {},
   "outputs": [
    {
     "data": {
      "text/plain": [
       "['H3K27ac_HI-32.bam.bai',\n",
       " 'H3K27ac_HI-45.bam',\n",
       " 'H3K27ac_HI-45.bam.bai',\n",
       " 'H3K4me1_HI-21.bam',\n",
       " 'H3K4me1_HI-21.bam.bai',\n",
       " 'H3K4me1_HI-25.bam',\n",
       " 'H3K4me1_HI-25.bam.bai',\n",
       " 'H3K4me1_HI-32.bam.bai',\n",
       " 'H3K4me3_HI-21.bam',\n",
       " 'H3K4me3_HI-21.bam.bai',\n",
       " 'H3K4me3_HI-25.bam',\n",
       " 'H3K4me3_HI-25.bam.bai',\n",
       " 'H3K4me3_HI-32.bam.bai',\n",
       " 'H3K27ac_HI-32.bam',\n",
       " 'H3K4me1_HI-32.bam',\n",
       " 'H3K4me3_HI-32.bam',\n",
       " 'H3K4me1.merged.bam',\n",
       " 'H3K4me3.merged.bam',\n",
       " 'H3K27ac.merged.bam']"
      ]
     },
     "execution_count": 5,
     "metadata": {},
     "output_type": "execute_result"
    }
   ],
   "source": [
    "os.listdir(os.getcwd())"
   ]
  },
  {
   "cell_type": "code",
   "execution_count": 19,
   "id": "78d035b0",
   "metadata": {},
   "outputs": [
    {
     "data": {
      "text/plain": [
       "['HI-32',\n",
       " 'HI-45',\n",
       " 'HI-45',\n",
       " 'HI-21',\n",
       " 'HI-21',\n",
       " 'HI-25',\n",
       " 'HI-25',\n",
       " 'HI-32',\n",
       " 'HI-21',\n",
       " 'HI-21',\n",
       " 'HI-25',\n",
       " 'HI-25',\n",
       " 'HI-32',\n",
       " 'HI-32',\n",
       " 'HI-32',\n",
       " 'HI-32']"
      ]
     },
     "execution_count": 19,
     "metadata": {},
     "output_type": "execute_result"
    }
   ],
   "source": [
    "re.findall(r\"(HI.\\d+)\", str(os.listdir(os.getcwd())))"
   ]
  },
  {
   "cell_type": "code",
   "execution_count": null,
   "id": "323132a6",
   "metadata": {},
   "outputs": [],
   "source": [
    "re.findall(r\"(*)\", str(os.listdir(os.getcwd())))"
   ]
  },
  {
   "cell_type": "markdown",
   "id": "31ce2056",
   "metadata": {},
   "source": [
    "# size distribution"
   ]
  },
  {
   "cell_type": "code",
   "execution_count": 88,
   "id": "19658f5f",
   "metadata": {},
   "outputs": [],
   "source": [
    "import numpy as np\n",
    "import pandas as pd\n",
    "import os\n",
    "import matplotlib.pyplot as plt"
   ]
  },
  {
   "cell_type": "code",
   "execution_count": 90,
   "id": "7c235daf",
   "metadata": {},
   "outputs": [],
   "source": [
    "os.chdir(\"/project/NeuralNet/CRC/ChIP-seq/crup/\")"
   ]
  },
  {
   "cell_type": "code",
   "execution_count": 97,
   "id": "3b08349e",
   "metadata": {},
   "outputs": [
    {
     "data": {
      "text/html": [
       "<div>\n",
       "<style scoped>\n",
       "    .dataframe tbody tr th:only-of-type {\n",
       "        vertical-align: middle;\n",
       "    }\n",
       "\n",
       "    .dataframe tbody tr th {\n",
       "        vertical-align: top;\n",
       "    }\n",
       "\n",
       "    .dataframe thead th {\n",
       "        text-align: right;\n",
       "    }\n",
       "</style>\n",
       "<table border=\"1\" class=\"dataframe\">\n",
       "  <thead>\n",
       "    <tr style=\"text-align: right;\">\n",
       "      <th></th>\n",
       "      <th>0</th>\n",
       "      <th>1</th>\n",
       "      <th>2</th>\n",
       "      <th>3</th>\n",
       "      <th>4</th>\n",
       "      <th>5</th>\n",
       "    </tr>\n",
       "  </thead>\n",
       "  <tbody>\n",
       "    <tr>\n",
       "      <th>0</th>\n",
       "      <td>1</td>\n",
       "      <td>761400</td>\n",
       "      <td>769600</td>\n",
       "      <td>.</td>\n",
       "      <td>0</td>\n",
       "      <td>.</td>\n",
       "    </tr>\n",
       "    <tr>\n",
       "      <th>1</th>\n",
       "      <td>1</td>\n",
       "      <td>873000</td>\n",
       "      <td>895900</td>\n",
       "      <td>.</td>\n",
       "      <td>0</td>\n",
       "      <td>.</td>\n",
       "    </tr>\n",
       "    <tr>\n",
       "      <th>2</th>\n",
       "      <td>1</td>\n",
       "      <td>1333000</td>\n",
       "      <td>1376500</td>\n",
       "      <td>.</td>\n",
       "      <td>0</td>\n",
       "      <td>.</td>\n",
       "    </tr>\n",
       "    <tr>\n",
       "      <th>3</th>\n",
       "      <td>1</td>\n",
       "      <td>8253300</td>\n",
       "      <td>8263800</td>\n",
       "      <td>.</td>\n",
       "      <td>0</td>\n",
       "      <td>.</td>\n",
       "    </tr>\n",
       "    <tr>\n",
       "      <th>4</th>\n",
       "      <td>1</td>\n",
       "      <td>8311800</td>\n",
       "      <td>8321100</td>\n",
       "      <td>.</td>\n",
       "      <td>0</td>\n",
       "      <td>.</td>\n",
       "    </tr>\n",
       "    <tr>\n",
       "      <th>...</th>\n",
       "      <td>...</td>\n",
       "      <td>...</td>\n",
       "      <td>...</td>\n",
       "      <td>...</td>\n",
       "      <td>...</td>\n",
       "      <td>...</td>\n",
       "    </tr>\n",
       "    <tr>\n",
       "      <th>11336</th>\n",
       "      <td>11</td>\n",
       "      <td>85373500</td>\n",
       "      <td>85376900</td>\n",
       "      <td>.</td>\n",
       "      <td>0</td>\n",
       "      <td>.</td>\n",
       "    </tr>\n",
       "    <tr>\n",
       "      <th>11337</th>\n",
       "      <td>7</td>\n",
       "      <td>128501800</td>\n",
       "      <td>128504500</td>\n",
       "      <td>.</td>\n",
       "      <td>0</td>\n",
       "      <td>.</td>\n",
       "    </tr>\n",
       "    <tr>\n",
       "      <th>11338</th>\n",
       "      <td>8</td>\n",
       "      <td>41832900</td>\n",
       "      <td>41835100</td>\n",
       "      <td>.</td>\n",
       "      <td>0</td>\n",
       "      <td>.</td>\n",
       "    </tr>\n",
       "    <tr>\n",
       "      <th>11339</th>\n",
       "      <td>1</td>\n",
       "      <td>231663100</td>\n",
       "      <td>231665800</td>\n",
       "      <td>.</td>\n",
       "      <td>0</td>\n",
       "      <td>.</td>\n",
       "    </tr>\n",
       "    <tr>\n",
       "      <th>11340</th>\n",
       "      <td>7</td>\n",
       "      <td>157560400</td>\n",
       "      <td>157569900</td>\n",
       "      <td>.</td>\n",
       "      <td>0</td>\n",
       "      <td>.</td>\n",
       "    </tr>\n",
       "  </tbody>\n",
       "</table>\n",
       "<p>11341 rows × 6 columns</p>\n",
       "</div>"
      ],
      "text/plain": [
       "        0          1          2  3  4  5\n",
       "0       1     761400     769600  .  0  .\n",
       "1       1     873000     895900  .  0  .\n",
       "2       1    1333000    1376500  .  0  .\n",
       "3       1    8253300    8263800  .  0  .\n",
       "4       1    8311800    8321100  .  0  .\n",
       "...    ..        ...        ... .. .. ..\n",
       "11336  11   85373500   85376900  .  0  .\n",
       "11337   7  128501800  128504500  .  0  .\n",
       "11338   8   41832900   41835100  .  0  .\n",
       "11339   1  231663100  231665800  .  0  .\n",
       "11340   7  157560400  157569900  .  0  .\n",
       "\n",
       "[11341 rows x 6 columns]"
      ]
     },
     "execution_count": 97,
     "metadata": {},
     "output_type": "execute_result"
    }
   ],
   "source": [
    "df = pd.read_csv(\"islets.merged.CRUP.clusterEnh.bed\", sep=\"\\t\", header=None)\n",
    "crupEnh = df[2] - df[1]  # 11341"
   ]
  },
  {
   "cell_type": "code",
   "execution_count": 102,
   "id": "14eff749",
   "metadata": {},
   "outputs": [],
   "source": [
    "os.chdir(\"/project/NeuralNet/CRC/Papers/EnhancerHub_PubMed31253982/\")"
   ]
  },
  {
   "cell_type": "code",
   "execution_count": 108,
   "id": "4c0d5548",
   "metadata": {},
   "outputs": [],
   "source": [
    "df = pd.read_csv(\"islet.enhHubs.bed\", sep=\"\\t\", header=None)\n",
    "hubs = df[2] - df[1]  # 1318\n",
    "\n",
    "df = pd.read_csv(\"islet.se.bed\", sep=\"\\t\", header=None)\n",
    "SE = df[2] - df[1]  # 770\n",
    "\n",
    "df = pd.read_csv(\"islet.enhClusters.bed\", sep=\"\\t\", header=None)\n",
    "clusters = df[2] - df[1]  # 3677\n",
    "\n",
    "df = pd.read_csv(\"islet.enhClusters.TF.bed\", sep=\"\\t\", header=None)\n",
    "clusters_TF = df[2] - df[1]  # 1813"
   ]
  },
  {
   "cell_type": "code",
   "execution_count": 127,
   "id": "72bc95ca",
   "metadata": {},
   "outputs": [
    {
     "data": {
      "image/png": "[encoded data removed]",
      "text/plain": [
       "<Figure size 432x288 with 1 Axes>"
      ]
     },
     "metadata": {
      "needs_background": "light"
     },
     "output_type": "display_data"
    }
   ],
   "source": [
    "kwargs = dict(alpha=0.5, bins=100)\n",
    "\n",
    "plt.hist(crupEnh, **kwargs, color='g', label='CRUP enhancers')\n",
    "plt.hist(hubs, **kwargs, color='b', label='enhancer hubs')\n",
    "plt.hist(SE, **kwargs, color='r', label='super-enhancers')\n",
    "plt.gca().set(title='Frequency Histogram of Diamond Depths', ylabel='Frequency')\n",
    "#plt.xlim(500, 4e6)\n",
    "#plt.xticks(np.arange(500, 4e6, 1e3))\n",
    "plt.legend();"
   ]
  },
  {
   "cell_type": "code",
   "execution_count": 156,
   "id": "d70c627f",
   "metadata": {
    "scrolled": false
   },
   "outputs": [
    {
     "data": {
      "text/plain": [
       "<matplotlib.legend.Legend at 0x7fdc88aa4c70>"
      ]
     },
     "execution_count": 156,
     "metadata": {},
     "output_type": "execute_result"
    },
    {
     "data": {
      "image/png": "[encoded data removed]",
      "text/plain": [
       "<Figure size 864x648 with 1 Axes>"
      ]
     },
     "metadata": {},
     "output_type": "display_data"
    }
   ],
   "source": [
    "kwargs = dict(alpha=0.5, bins=500)\n",
    "\n",
    "plt.figure(figsize=(12,9))\n",
    "\n",
    "plt.hist(crupEnh, **kwargs, label='CRUP enhancers')\n",
    "plt.hist(hubs, **kwargs, label='enhancer hubs')\n",
    "plt.hist(SE, **kwargs, label='super-enhancers')\n",
    "plt.hist(clusters, **kwargs, label='enhancer clusters')\n",
    "plt.hist(clusters_TF, **kwargs, label='enhancer clusters (TF)')\n",
    "plt.gca().set(title='histogram of enhancer lengths', ylabel='number of enhancers', xlabel=\"enhancer length\")\n",
    "plt.gca().set_xscale(\"log\")\n",
    "#plt.ylim(0, 1500)\n",
    "#plt.yticks(np.arange(0, 1500, 300))\n",
    "plt.legend()"
   ]
  },
  {
   "cell_type": "code",
   "execution_count": 157,
   "id": "2adae434",
   "metadata": {},
   "outputs": [
    {
     "name": "stderr",
     "output_type": "stream",
     "text": [
      "/project/NeuralNet/software/miniconda3/envs/TF_NN/lib/python3.8/site-packages/seaborn/distributions.py:2619: FutureWarning: `distplot` is a deprecated function and will be removed in a future version. Please adapt your code to use either `displot` (a figure-level function with similar flexibility) or `histplot` (an axes-level function for histograms).\n",
      "  warnings.warn(msg, FutureWarning)\n",
      "/project/NeuralNet/software/miniconda3/envs/TF_NN/lib/python3.8/site-packages/seaborn/distributions.py:2619: FutureWarning: `distplot` is a deprecated function and will be removed in a future version. Please adapt your code to use either `displot` (a figure-level function with similar flexibility) or `histplot` (an axes-level function for histograms).\n",
      "  warnings.warn(msg, FutureWarning)\n",
      "/project/NeuralNet/software/miniconda3/envs/TF_NN/lib/python3.8/site-packages/seaborn/distributions.py:2619: FutureWarning: `distplot` is a deprecated function and will be removed in a future version. Please adapt your code to use either `displot` (a figure-level function with similar flexibility) or `histplot` (an axes-level function for histograms).\n",
      "  warnings.warn(msg, FutureWarning)\n",
      "/project/NeuralNet/software/miniconda3/envs/TF_NN/lib/python3.8/site-packages/seaborn/distributions.py:2619: FutureWarning: `distplot` is a deprecated function and will be removed in a future version. Please adapt your code to use either `displot` (a figure-level function with similar flexibility) or `histplot` (an axes-level function for histograms).\n",
      "  warnings.warn(msg, FutureWarning)\n",
      "/project/NeuralNet/software/miniconda3/envs/TF_NN/lib/python3.8/site-packages/seaborn/distributions.py:2619: FutureWarning: `distplot` is a deprecated function and will be removed in a future version. Please adapt your code to use either `displot` (a figure-level function with similar flexibility) or `histplot` (an axes-level function for histograms).\n",
      "  warnings.warn(msg, FutureWarning)\n"
     ]
    },
    {
     "data": {
      "text/plain": [
       "<matplotlib.legend.Legend at 0x7fdc87946c70>"
      ]
     },
     "execution_count": 157,
     "metadata": {},
     "output_type": "execute_result"
    },
    {
     "data": {
      "image/png": "[encoded data removed]",
      "text/plain": [
       "<Figure size 800x560 with 1 Axes>"
      ]
     },
     "metadata": {},
     "output_type": "display_data"
    }
   ],
   "source": [
    "import seaborn as sns\n",
    "sns.set_style(\"white\")\n",
    "kwargs = dict(hist_kws={'alpha':.6}, kde_kws={'linewidth':2}, bins=500)\n",
    "\n",
    "plt.figure(figsize=(10,7), dpi= 80)\n",
    "sns.distplot(crupEnh, **kwargs, label='CRUP enhancers')\n",
    "sns.distplot(hubs, **kwargs, label='enhancer hubs')\n",
    "sns.distplot(SE, **kwargs, label='super-enhancers')\n",
    "sns.distplot(clusters, **kwargs, label='enhancer clusters')\n",
    "sns.distplot(clusters_TF, **kwargs, label='enhancer clusters (TF)')\n",
    "\n",
    "plt.gca().set(title='histogram of enhancer lengths', ylabel='number of enhancers', xlabel=\"enhancer length\")\n",
    "plt.gca().set_xscale(\"log\")\n",
    "plt.legend()"
   ]
  },
  {
   "cell_type": "code",
   "execution_count": 150,
   "id": "0a05852b",
   "metadata": {},
   "outputs": [],
   "source": [
    "plt.close()"
   ]
  },
  {
   "cell_type": "markdown",
   "id": "4ffb645a",
   "metadata": {},
   "source": [
    "# Venn diagram"
   ]
  },
  {
   "cell_type": "code",
   "execution_count": 2,
   "id": "2c47809f",
   "metadata": {
    "scrolled": true
   },
   "outputs": [],
   "source": [
    "df = pd.DataFrame(np.array([\"CRUP enhancers\", \"enhancer hubs\", 11341, 1318, 5989, 1314, \n",
    "                            \"CRUP enhancers\", \"super-enhancers\", 11341, 770, 836, 770, \n",
    "                            \"CRUP enhancers\", \"enhancer clusters\", 11341, 3677, 1258, 1091, \n",
    "                            \"CRUP enhancers\", \"enhancer clusters (TF)\", 11341, 1813, 697, 579]).reshape(4, 6),\n",
    "                  columns=[\"bedA\", \"bedB\", \"A\", \"B\", \"A and B in A\", \"A and B in B\"])"
   ]
  },
  {
   "cell_type": "code",
   "execution_count": 3,
   "id": "abcd2d6e",
   "metadata": {},
   "outputs": [
    {
     "name": "stdout",
     "output_type": "stream",
     "text": [
      "bedA            object\n",
      "bedB            object\n",
      "A                int64\n",
      "B                int64\n",
      "A and B in A     int64\n",
      "A and B in B     int64\n",
      "dtype: object\n"
     ]
    },
    {
     "data": {
      "text/html": [
       "<div>\n",
       "<style scoped>\n",
       "    .dataframe tbody tr th:only-of-type {\n",
       "        vertical-align: middle;\n",
       "    }\n",
       "\n",
       "    .dataframe tbody tr th {\n",
       "        vertical-align: top;\n",
       "    }\n",
       "\n",
       "    .dataframe thead th {\n",
       "        text-align: right;\n",
       "    }\n",
       "</style>\n",
       "<table border=\"1\" class=\"dataframe\">\n",
       "  <thead>\n",
       "    <tr style=\"text-align: right;\">\n",
       "      <th></th>\n",
       "      <th>bedA</th>\n",
       "      <th>bedB</th>\n",
       "      <th>A</th>\n",
       "      <th>B</th>\n",
       "      <th>A and B in A</th>\n",
       "      <th>A and B in B</th>\n",
       "    </tr>\n",
       "  </thead>\n",
       "  <tbody>\n",
       "    <tr>\n",
       "      <th>0</th>\n",
       "      <td>CRUP enhancers</td>\n",
       "      <td>enhancer hubs</td>\n",
       "      <td>11341</td>\n",
       "      <td>1318</td>\n",
       "      <td>5989</td>\n",
       "      <td>1314</td>\n",
       "    </tr>\n",
       "    <tr>\n",
       "      <th>1</th>\n",
       "      <td>CRUP enhancers</td>\n",
       "      <td>super-enhancers</td>\n",
       "      <td>11341</td>\n",
       "      <td>770</td>\n",
       "      <td>836</td>\n",
       "      <td>770</td>\n",
       "    </tr>\n",
       "    <tr>\n",
       "      <th>2</th>\n",
       "      <td>CRUP enhancers</td>\n",
       "      <td>enhancer clusters</td>\n",
       "      <td>11341</td>\n",
       "      <td>3677</td>\n",
       "      <td>1258</td>\n",
       "      <td>1091</td>\n",
       "    </tr>\n",
       "    <tr>\n",
       "      <th>3</th>\n",
       "      <td>CRUP enhancers</td>\n",
       "      <td>enhancer clusters (TF)</td>\n",
       "      <td>11341</td>\n",
       "      <td>1813</td>\n",
       "      <td>697</td>\n",
       "      <td>579</td>\n",
       "    </tr>\n",
       "  </tbody>\n",
       "</table>\n",
       "</div>"
      ],
      "text/plain": [
       "             bedA                    bedB      A     B  A and B in A  \\\n",
       "0  CRUP enhancers           enhancer hubs  11341  1318          5989   \n",
       "1  CRUP enhancers         super-enhancers  11341   770           836   \n",
       "2  CRUP enhancers       enhancer clusters  11341  3677          1258   \n",
       "3  CRUP enhancers  enhancer clusters (TF)  11341  1813           697   \n",
       "\n",
       "   A and B in B  \n",
       "0          1314  \n",
       "1           770  \n",
       "2          1091  \n",
       "3           579  "
      ]
     },
     "execution_count": 3,
     "metadata": {},
     "output_type": "execute_result"
    }
   ],
   "source": [
    "df = df.apply(pd.to_numeric, errors='ignore')\n",
    "print(df.dtypes)\n",
    "df"
   ]
  },
  {
   "cell_type": "code",
   "execution_count": 1,
   "id": "7d340775",
   "metadata": {},
   "outputs": [],
   "source": [
    "# import libraries\n",
    "import matplotlib.pyplot as plt\n",
    "from matplotlib_venn import venn2, venn2_circles\n",
    "\n",
    "import numpy as np\n",
    "import pandas as pd"
   ]
  },
  {
   "cell_type": "code",
   "execution_count": 67,
   "id": "3cff5235",
   "metadata": {},
   "outputs": [],
   "source": [
    "df[\"A and B in A (%)\"] = df[\"A and B in A\"] / df.A\n",
    "df[\"A and B in B (%)\"] = df[\"A and B in B\"] / df.B\n",
    "df[\"abbr_bedA\"] = [\"CE\"] * 4\n",
    "df[\"abbr_bedB\"] = [\"EH\", \"SE\", \"EC\", \"EC_TF\"]"
   ]
  },
  {
   "cell_type": "code",
   "execution_count": 68,
   "id": "49d16a39",
   "metadata": {},
   "outputs": [
    {
     "data": {
      "text/html": [
       "<style type=\"text/css\">\n",
       "</style>\n",
       "<table id=\"T_0ac6f_\">\n",
       "  <thead>\n",
       "    <tr>\n",
       "      <th class=\"blank level0\" >&nbsp;</th>\n",
       "      <th class=\"col_heading level0 col0\" >bedA</th>\n",
       "      <th class=\"col_heading level0 col1\" >bedB</th>\n",
       "      <th class=\"col_heading level0 col2\" >A</th>\n",
       "      <th class=\"col_heading level0 col3\" >B</th>\n",
       "      <th class=\"col_heading level0 col4\" >A and B in A</th>\n",
       "      <th class=\"col_heading level0 col5\" >A and B in B</th>\n",
       "      <th class=\"col_heading level0 col6\" >A and B in A (%)</th>\n",
       "      <th class=\"col_heading level0 col7\" >A and B in B (%)</th>\n",
       "      <th class=\"col_heading level0 col8\" >abbr_bedA</th>\n",
       "      <th class=\"col_heading level0 col9\" >abbr_bedB</th>\n",
       "    </tr>\n",
       "  </thead>\n",
       "  <tbody>\n",
       "    <tr>\n",
       "      <th id=\"T_0ac6f_level0_row0\" class=\"row_heading level0 row0\" >0</th>\n",
       "      <td id=\"T_0ac6f_row0_col0\" class=\"data row0 col0\" >CRUP enhancers</td>\n",
       "      <td id=\"T_0ac6f_row0_col1\" class=\"data row0 col1\" >enhancer hubs</td>\n",
       "      <td id=\"T_0ac6f_row0_col2\" class=\"data row0 col2\" >11341</td>\n",
       "      <td id=\"T_0ac6f_row0_col3\" class=\"data row0 col3\" >1318</td>\n",
       "      <td id=\"T_0ac6f_row0_col4\" class=\"data row0 col4\" >5989</td>\n",
       "      <td id=\"T_0ac6f_row0_col5\" class=\"data row0 col5\" >1314</td>\n",
       "      <td id=\"T_0ac6f_row0_col6\" class=\"data row0 col6\" >52.81%</td>\n",
       "      <td id=\"T_0ac6f_row0_col7\" class=\"data row0 col7\" >99.70%</td>\n",
       "      <td id=\"T_0ac6f_row0_col8\" class=\"data row0 col8\" >CE</td>\n",
       "      <td id=\"T_0ac6f_row0_col9\" class=\"data row0 col9\" >EH</td>\n",
       "    </tr>\n",
       "    <tr>\n",
       "      <th id=\"T_0ac6f_level0_row1\" class=\"row_heading level0 row1\" >1</th>\n",
       "      <td id=\"T_0ac6f_row1_col0\" class=\"data row1 col0\" >CRUP enhancers</td>\n",
       "      <td id=\"T_0ac6f_row1_col1\" class=\"data row1 col1\" >super-enhancers</td>\n",
       "      <td id=\"T_0ac6f_row1_col2\" class=\"data row1 col2\" >11341</td>\n",
       "      <td id=\"T_0ac6f_row1_col3\" class=\"data row1 col3\" >770</td>\n",
       "      <td id=\"T_0ac6f_row1_col4\" class=\"data row1 col4\" >836</td>\n",
       "      <td id=\"T_0ac6f_row1_col5\" class=\"data row1 col5\" >770</td>\n",
       "      <td id=\"T_0ac6f_row1_col6\" class=\"data row1 col6\" >7.37%</td>\n",
       "      <td id=\"T_0ac6f_row1_col7\" class=\"data row1 col7\" >100.00%</td>\n",
       "      <td id=\"T_0ac6f_row1_col8\" class=\"data row1 col8\" >CE</td>\n",
       "      <td id=\"T_0ac6f_row1_col9\" class=\"data row1 col9\" >SE</td>\n",
       "    </tr>\n",
       "    <tr>\n",
       "      <th id=\"T_0ac6f_level0_row2\" class=\"row_heading level0 row2\" >2</th>\n",
       "      <td id=\"T_0ac6f_row2_col0\" class=\"data row2 col0\" >CRUP enhancers</td>\n",
       "      <td id=\"T_0ac6f_row2_col1\" class=\"data row2 col1\" >enhancer clusters</td>\n",
       "      <td id=\"T_0ac6f_row2_col2\" class=\"data row2 col2\" >11341</td>\n",
       "      <td id=\"T_0ac6f_row2_col3\" class=\"data row2 col3\" >3677</td>\n",
       "      <td id=\"T_0ac6f_row2_col4\" class=\"data row2 col4\" >1258</td>\n",
       "      <td id=\"T_0ac6f_row2_col5\" class=\"data row2 col5\" >1091</td>\n",
       "      <td id=\"T_0ac6f_row2_col6\" class=\"data row2 col6\" >11.09%</td>\n",
       "      <td id=\"T_0ac6f_row2_col7\" class=\"data row2 col7\" >29.67%</td>\n",
       "      <td id=\"T_0ac6f_row2_col8\" class=\"data row2 col8\" >CE</td>\n",
       "      <td id=\"T_0ac6f_row2_col9\" class=\"data row2 col9\" >EC</td>\n",
       "    </tr>\n",
       "    <tr>\n",
       "      <th id=\"T_0ac6f_level0_row3\" class=\"row_heading level0 row3\" >3</th>\n",
       "      <td id=\"T_0ac6f_row3_col0\" class=\"data row3 col0\" >CRUP enhancers</td>\n",
       "      <td id=\"T_0ac6f_row3_col1\" class=\"data row3 col1\" >enhancer clusters (TF)</td>\n",
       "      <td id=\"T_0ac6f_row3_col2\" class=\"data row3 col2\" >11341</td>\n",
       "      <td id=\"T_0ac6f_row3_col3\" class=\"data row3 col3\" >1813</td>\n",
       "      <td id=\"T_0ac6f_row3_col4\" class=\"data row3 col4\" >697</td>\n",
       "      <td id=\"T_0ac6f_row3_col5\" class=\"data row3 col5\" >579</td>\n",
       "      <td id=\"T_0ac6f_row3_col6\" class=\"data row3 col6\" >6.15%</td>\n",
       "      <td id=\"T_0ac6f_row3_col7\" class=\"data row3 col7\" >31.94%</td>\n",
       "      <td id=\"T_0ac6f_row3_col8\" class=\"data row3 col8\" >CE</td>\n",
       "      <td id=\"T_0ac6f_row3_col9\" class=\"data row3 col9\" >EC_TF</td>\n",
       "    </tr>\n",
       "  </tbody>\n",
       "</table>\n"
      ],
      "text/plain": [
       "<pandas.io.formats.style.Styler at 0x7fdc94c19820>"
      ]
     },
     "execution_count": 68,
     "metadata": {},
     "output_type": "execute_result"
    }
   ],
   "source": [
    "df.style.format({\"A and B in A (%)\": \"{:.2%}\", \"A and B in B (%)\": \"{:.2%}\"})"
   ]
  },
  {
   "cell_type": "markdown",
   "id": "bfec06b8",
   "metadata": {},
   "source": [
    "## CRUP enhancers vs enhancer hubs overlap"
   ]
  },
  {
   "cell_type": "code",
   "execution_count": 83,
   "id": "b4d56f64",
   "metadata": {},
   "outputs": [
    {
     "data": {
      "image/png": "[encoded data removed]",
      "text/plain": [
       "<Figure size 432x288 with 1 Axes>"
      ]
     },
     "metadata": {},
     "output_type": "display_data"
    }
   ],
   "source": [
    "# Ab, aB, AB\n",
    "# 10, 01, 11\n",
    "\n",
    "v2 = venn2(subsets = {\"10\": (df.A - df[\"A and B in A\"])[0],\n",
    "                      \"01\": (df.B - df[\"A and B in B\"])[0],\n",
    "                      \"11\": df[\"A and B in A\"][0]}, \n",
    "           set_labels = (f\"{df.bedA[0]}\\n(n={df.A[0]})\", f\"{df.bedB[0]}\\n(n={df.B[0]})\"))\n",
    "\n",
    "colors = [\"darkblue\", \"teal\", \"red\"]\n",
    "i = 0\n",
    "for text in v2.set_labels:\n",
    "    text.set_fontsize(14)                  #set label's fontsize \n",
    "    text.set_color(colors[i])                 #set label's font colour\n",
    "    i += 1\n",
    "\n",
    "IDs = [\"10\", \"01\", \"11\"]\n",
    "i = 0\n",
    "for ids in IDs:\n",
    "    v2.get_patch_by_id(ids).set_color(colors[i])\n",
    "    i += 1\n",
    "    \n",
    "for text in v2.subset_labels:\n",
    "    text.set_fontsize(12)                #set circle's value fontsize \n",
    "    text.set_color('black')              #set circle's value font colour\n",
    "    text.set_fontweight('bold')\n",
    "    text.set_alpha(1)                    #set circle's value font transparency\n",
    "\n",
    "v2.get_label_by_id('11').set_text(f'{df[\"A and B in A\"][0]} {df.abbr_bedA[0]}\\n{df[\"A and B in B\"][0]} {df.abbr_bedB[0]}')\n",
    "\n",
    "plt.title(\"CRUP enhancers vs enhancer hubs overlap\", fontsize='xx-large', loc=\"center\") #set title\n",
    "plt.show()"
   ]
  },
  {
   "cell_type": "markdown",
   "id": "46f69250",
   "metadata": {},
   "source": [
    "## CRUP enhancers vs super-enhancers overlap"
   ]
  },
  {
   "cell_type": "code",
   "execution_count": 85,
   "id": "098fc269",
   "metadata": {},
   "outputs": [
    {
     "data": {
      "image/png": "[encoded data removed]",
      "text/plain": [
       "<Figure size 432x288 with 1 Axes>"
      ]
     },
     "metadata": {},
     "output_type": "display_data"
    }
   ],
   "source": [
    "v2 = venn2(subsets = {\"10\": (df.A - df[\"A and B in A\"])[1],\n",
    "                      \"01\": (df.B - df[\"A and B in B\"])[1],\n",
    "                      \"11\": df[\"A and B in A\"][1]}, \n",
    "           set_labels = (f\"{df.bedA[1]}\\n(n={df.A[1]})\", f\"{df.bedB[1]}\\n(n={df.B[1]})\"))\n",
    "\n",
    "colors = [\"darkblue\", \"teal\", \"red\"]\n",
    "i = 0\n",
    "for text in v2.set_labels:\n",
    "    text.set_fontsize(14)                  #set label's fontsize \n",
    "    text.set_color(colors[i])                 #set label's font colour\n",
    "    i += 1\n",
    "\n",
    "IDs = [\"10\", \"01\", \"11\"]\n",
    "i = 0\n",
    "for ids in IDs:\n",
    "    v2.get_patch_by_id(ids).set_color(colors[i])\n",
    "    i += 1\n",
    "    \n",
    "for text in v2.subset_labels:\n",
    "    text.set_fontsize(12)                #set circle's value fontsize \n",
    "    text.set_color('black')              #set circle's value font colour\n",
    "    text.set_fontweight('bold')\n",
    "    text.set_alpha(1)                    #set circle's value font transparency\n",
    "\n",
    "v2.get_label_by_id('11').set_text(f'{df[\"A and B in A\"][1]} {df.abbr_bedA[1]}\\n{df[\"A and B in B\"][1]} {df.abbr_bedB[1]}')\n",
    "\n",
    "plt.title(\"CRUP enhancers vs super-enhancers overlap\", fontsize='xx-large', loc=\"center\") #set title\n",
    "plt.show()"
   ]
  },
  {
   "cell_type": "markdown",
   "id": "78a999de",
   "metadata": {},
   "source": [
    "## CRUP enhancers vs enhancer clusters overlap"
   ]
  },
  {
   "cell_type": "code",
   "execution_count": 84,
   "id": "0da4709c",
   "metadata": {},
   "outputs": [
    {
     "data": {
      "image/png": "[encoded data removed]",
      "text/plain": [
       "<Figure size 432x288 with 1 Axes>"
      ]
     },
     "metadata": {},
     "output_type": "display_data"
    }
   ],
   "source": [
    "v2 = venn2(subsets = {\"10\": (df.A - df[\"A and B in A\"])[2],\n",
    "                      \"01\": (df.B - df[\"A and B in B\"])[2],\n",
    "                      \"11\": df[\"A and B in A\"][2]}, \n",
    "           set_labels = (f\"{df.bedA[2]}\\n(n={df.A[2]})\", f\"{df.bedB[2]}\\n(n={df.B[2]})\"))\n",
    "\n",
    "colors = [\"darkblue\", \"teal\", \"red\"]\n",
    "i = 0\n",
    "for text in v2.set_labels:\n",
    "    text.set_fontsize(14)                  #set label's fontsize \n",
    "    text.set_color(colors[i])                 #set label's font colour\n",
    "    i += 1\n",
    "\n",
    "IDs = [\"10\", \"01\", \"11\"]\n",
    "i = 0\n",
    "for ids in IDs:\n",
    "    v2.get_patch_by_id(ids).set_color(colors[i])\n",
    "    i += 1\n",
    "    \n",
    "for text in v2.subset_labels:\n",
    "    text.set_fontsize(12)                #set circle's value fontsize \n",
    "    text.set_color('black')              #set circle's value font colour\n",
    "    text.set_fontweight('bold')\n",
    "    text.set_alpha(1)                    #set circle's value font transparency\n",
    "\n",
    "v2.get_label_by_id('11').set_text(f'{df[\"A and B in A\"][2]} {df.abbr_bedA[2]}\\n{df[\"A and B in B\"][2]} {df.abbr_bedB[2]}')\n",
    "\n",
    "plt.title(\"CRUP enhancers vs enhancer clusters overlap\", fontsize='xx-large', loc=\"center\") #set title\n",
    "plt.show()"
   ]
  },
  {
   "cell_type": "markdown",
   "id": "4b96b4c4",
   "metadata": {},
   "source": [
    "## CRUP enhancers vs enhancer clusters (highly bound by islet TFs) overlap"
   ]
  },
  {
   "cell_type": "code",
   "execution_count": 86,
   "id": "6b4dad98",
   "metadata": {},
   "outputs": [
    {
     "data": {
      "image/png": "[encoded data removed]",
      "text/plain": [
       "<Figure size 432x288 with 1 Axes>"
      ]
     },
     "metadata": {},
     "output_type": "display_data"
    }
   ],
   "source": [
    "v2 = venn2(subsets = {\"10\": (df.A - df[\"A and B in A\"])[3],\n",
    "                      \"01\": (df.B - df[\"A and B in B\"])[3],\n",
    "                      \"11\": df[\"A and B in A\"][3]}, \n",
    "           set_labels = (f\"{df.bedA[3]}\\n(n={df.A[3]})\", f\"{df.bedB[3]}\\n(n={df.B[3]})\"))\n",
    "\n",
    "colors = [\"darkblue\", \"teal\", \"red\"]\n",
    "i = 0\n",
    "for text in v2.set_labels:\n",
    "    text.set_fontsize(14)                  #set label's fontsize \n",
    "    text.set_color(colors[i])                 #set label's font colour\n",
    "    i += 1\n",
    "\n",
    "IDs = [\"10\", \"01\", \"11\"]\n",
    "i = 0\n",
    "for ids in IDs:\n",
    "    v2.get_patch_by_id(ids).set_color(colors[i])\n",
    "    i += 1\n",
    "    \n",
    "for text in v2.subset_labels:\n",
    "    text.set_fontsize(12)                #set circle's value fontsize \n",
    "    text.set_color('black')              #set circle's value font colour\n",
    "    text.set_fontweight('bold')\n",
    "    text.set_alpha(1)                    #set circle's value font transparency\n",
    "\n",
    "v2.get_label_by_id('11').set_text(f'{df[\"A and B in A\"][3]} {df.abbr_bedA[3]}\\n{df[\"A and B in B\"][3]} {df.abbr_bedB[3]}')\n",
    "\n",
    "plt.title(\"CRUP enhancers vs enhancer clusters overlap\", fontsize='xx-large', loc=\"center\") #set title\n",
    "plt.show()"
   ]
  },
  {
   "cell_type": "markdown",
   "id": "55ce355b",
   "metadata": {},
   "source": [
    "ref:\n",
    "\n",
    "1. **[Matplotlib Series 6: Venn diagram](https://jingwen-z.github.io/data-viz-with-matplotlib-series6-venn-diagram/)**\n",
    "2. [How to Create and Customize Venn Diagrams in Python](https://towardsdatascience.com/how-to-create-and-customize-venn-diagrams-in-python-263555527305)\n",
    "3. [Venn Gogh](https://bernard-mlab.com/post/venn-gogh/)\n",
    "4. [Professional Venn diagrams in Python](https://towardsdatascience.com/professional-venn-diagrams-in-python-638abfff39cc)"
   ]
  },
  {
   "cell_type": "markdown",
   "id": "ab47c4a2",
   "metadata": {},
   "source": [
    "# bed2gff"
   ]
  },
  {
   "cell_type": "code",
   "execution_count": 2,
   "id": "6d23ed1f",
   "metadata": {},
   "outputs": [],
   "source": [
    "import pandas as pd\n",
    "import numpy as np\n",
    "import os"
   ]
  },
  {
   "cell_type": "code",
   "execution_count": 3,
   "id": "bc9c8bed",
   "metadata": {},
   "outputs": [
    {
     "data": {
      "text/plain": [
       "'/project/NeuralNet/CRC'"
      ]
     },
     "execution_count": 3,
     "metadata": {},
     "output_type": "execute_result"
    }
   ],
   "source": [
    "os.getcwd()"
   ]
  },
  {
   "cell_type": "code",
   "execution_count": 5,
   "id": "3303a638",
   "metadata": {},
   "outputs": [
    {
     "data": {
      "text/plain": [
       "['islets.HI-32.CRUP.clusterEnh.bed',\n",
       " 'islets.HI-32.CRUP.prediction.bw',\n",
       " 'islets.HI-32.CRUP.prediction.rds',\n",
       " 'islets.HI-32.CRUP.singleEnh.bedGraph',\n",
       " 'CRUPtmp',\n",
       " 'islets.merged.CRUP.clusterEnh.bed',\n",
       " 'islets.merged.CRUP.prediction.bw',\n",
       " 'islets.merged.CRUP.prediction.rds',\n",
       " 'islets.merged.CRUP.singleEnh.bedGraph',\n",
       " 'islets.merged.CRUP.clusterEnh.sorted.bed',\n",
       " 'hg19.chrom.sizes',\n",
       " 'islets.HI-32.CRUP.clusterEnh.sorted.bed',\n",
       " '.~lock.islets.HI-32.CRUP.clusterEnh.bed#']"
      ]
     },
     "execution_count": 5,
     "metadata": {},
     "output_type": "execute_result"
    }
   ],
   "source": [
    "os.listdir(\"./crup/\")"
   ]
  },
  {
   "cell_type": "code",
   "execution_count": 39,
   "id": "cfb8fab2",
   "metadata": {},
   "outputs": [],
   "source": [
    "# read bed file\n",
    "bed = pd.read_csv(\"./crup/islets.HI-32.CRUP.clusterEnh.bed\", sep=\"\\t\", header=None)\n",
    "bed.columns = [\"chr\", \"start\", \"end\", \"ID\", \"score\", \"strand\"]"
   ]
  },
  {
   "cell_type": "code",
   "execution_count": 61,
   "id": "03adfa7b",
   "metadata": {},
   "outputs": [
    {
     "data": {
      "text/html": [
       "<div>\n",
       "<style scoped>\n",
       "    .dataframe tbody tr th:only-of-type {\n",
       "        vertical-align: middle;\n",
       "    }\n",
       "\n",
       "    .dataframe tbody tr th {\n",
       "        vertical-align: top;\n",
       "    }\n",
       "\n",
       "    .dataframe thead th {\n",
       "        text-align: right;\n",
       "    }\n",
       "</style>\n",
       "<table border=\"1\" class=\"dataframe\">\n",
       "  <thead>\n",
       "    <tr style=\"text-align: right;\">\n",
       "      <th></th>\n",
       "      <th>chr6\\tMM1S_MED1_DMSO_2_15567\\t\\t41854892\\t41856607\\t\\t.\\t\\tMM1S_MED1_DMSO_2_15567</th>\n",
       "    </tr>\n",
       "  </thead>\n",
       "  <tbody>\n",
       "    <tr>\n",
       "      <th>0</th>\n",
       "      <td>chr1\\tMM1S_MED1_DMSO_2_1073\\t\\t154844420\\t1548...</td>\n",
       "    </tr>\n",
       "    <tr>\n",
       "      <th>1</th>\n",
       "      <td>chr1\\tMM1S_MED1_DMSO_2_542\\t\\t51755792\\t517583...</td>\n",
       "    </tr>\n",
       "    <tr>\n",
       "      <th>2</th>\n",
       "      <td>chr10\\tMM1S_MED1_DMSO_2_2063\\t\\t49183924\\t4918...</td>\n",
       "    </tr>\n",
       "    <tr>\n",
       "      <th>3</th>\n",
       "      <td>chr9\\tMM1S_MED1_DMSO_2_18173\\t\\t16449020\\t1645...</td>\n",
       "    </tr>\n",
       "    <tr>\n",
       "      <th>4</th>\n",
       "      <td>chr17\\tMM1S_MED1_DMSO_2_7679\\t\\t63797622\\t6380...</td>\n",
       "    </tr>\n",
       "  </tbody>\n",
       "</table>\n",
       "</div>"
      ],
      "text/plain": [
       "  chr6\\tMM1S_MED1_DMSO_2_15567\\t\\t41854892\\t41856607\\t\\t.\\t\\tMM1S_MED1_DMSO_2_15567\n",
       "0  chr1\\tMM1S_MED1_DMSO_2_1073\\t\\t154844420\\t1548...                               \n",
       "1  chr1\\tMM1S_MED1_DMSO_2_542\\t\\t51755792\\t517583...                               \n",
       "2  chr10\\tMM1S_MED1_DMSO_2_2063\\t\\t49183924\\t4918...                               \n",
       "3  chr9\\tMM1S_MED1_DMSO_2_18173\\t\\t16449020\\t1645...                               \n",
       "4  chr17\\tMM1S_MED1_DMSO_2_7679\\t\\t63797622\\t6380...                               "
      ]
     },
     "execution_count": 61,
     "metadata": {},
     "output_type": "execute_result"
    }
   ],
   "source": [
    "pd.read_csv(\"./ROSE/ROSE_DATA/data/HG18_MM1S_MED1_1000.gff\").head()\n"
   ]
  },
  {
   "cell_type": "code",
   "execution_count": 40,
   "id": "5a3ed381",
   "metadata": {
    "scrolled": true
   },
   "outputs": [
    {
     "data": {
      "text/html": [
       "<div>\n",
       "<style scoped>\n",
       "    .dataframe tbody tr th:only-of-type {\n",
       "        vertical-align: middle;\n",
       "    }\n",
       "\n",
       "    .dataframe tbody tr th {\n",
       "        vertical-align: top;\n",
       "    }\n",
       "\n",
       "    .dataframe thead th {\n",
       "        text-align: right;\n",
       "    }\n",
       "</style>\n",
       "<table border=\"1\" class=\"dataframe\">\n",
       "  <thead>\n",
       "    <tr style=\"text-align: right;\">\n",
       "      <th></th>\n",
       "      <th>chr</th>\n",
       "      <th>start</th>\n",
       "      <th>end</th>\n",
       "      <th>ID</th>\n",
       "      <th>score</th>\n",
       "      <th>strand</th>\n",
       "    </tr>\n",
       "  </thead>\n",
       "  <tbody>\n",
       "    <tr>\n",
       "      <th>0</th>\n",
       "      <td>1</td>\n",
       "      <td>761400</td>\n",
       "      <td>769000</td>\n",
       "      <td>.</td>\n",
       "      <td>0</td>\n",
       "      <td>.</td>\n",
       "    </tr>\n",
       "    <tr>\n",
       "      <th>1</th>\n",
       "      <td>1</td>\n",
       "      <td>873000</td>\n",
       "      <td>881300</td>\n",
       "      <td>.</td>\n",
       "      <td>0</td>\n",
       "      <td>.</td>\n",
       "    </tr>\n",
       "    <tr>\n",
       "      <th>2</th>\n",
       "      <td>1</td>\n",
       "      <td>1341000</td>\n",
       "      <td>1374900</td>\n",
       "      <td>.</td>\n",
       "      <td>0</td>\n",
       "      <td>.</td>\n",
       "    </tr>\n",
       "    <tr>\n",
       "      <th>3</th>\n",
       "      <td>1</td>\n",
       "      <td>7727100</td>\n",
       "      <td>7730400</td>\n",
       "      <td>.</td>\n",
       "      <td>0</td>\n",
       "      <td>.</td>\n",
       "    </tr>\n",
       "    <tr>\n",
       "      <th>4</th>\n",
       "      <td>1</td>\n",
       "      <td>8136300</td>\n",
       "      <td>8158400</td>\n",
       "      <td>.</td>\n",
       "      <td>0</td>\n",
       "      <td>.</td>\n",
       "    </tr>\n",
       "  </tbody>\n",
       "</table>\n",
       "</div>"
      ],
      "text/plain": [
       "  chr    start      end ID  score strand\n",
       "0   1   761400   769000  .      0      .\n",
       "1   1   873000   881300  .      0      .\n",
       "2   1  1341000  1374900  .      0      .\n",
       "3   1  7727100  7730400  .      0      .\n",
       "4   1  8136300  8158400  .      0      ."
      ]
     },
     "execution_count": 40,
     "metadata": {},
     "output_type": "execute_result"
    }
   ],
   "source": [
    "bed.head()"
   ]
  },
  {
   "cell_type": "code",
   "execution_count": 58,
   "id": "b0f3ea92",
   "metadata": {},
   "outputs": [
    {
     "data": {
      "text/html": [
       "<div>\n",
       "<style scoped>\n",
       "    .dataframe tbody tr th:only-of-type {\n",
       "        vertical-align: middle;\n",
       "    }\n",
       "\n",
       "    .dataframe tbody tr th {\n",
       "        vertical-align: top;\n",
       "    }\n",
       "\n",
       "    .dataframe thead th {\n",
       "        text-align: right;\n",
       "    }\n",
       "</style>\n",
       "<table border=\"1\" class=\"dataframe\">\n",
       "  <thead>\n",
       "    <tr style=\"text-align: right;\">\n",
       "      <th></th>\n",
       "      <th>chr</th>\n",
       "      <th>name1</th>\n",
       "      <th>empty1</th>\n",
       "      <th>start</th>\n",
       "      <th>end</th>\n",
       "      <th>empty2</th>\n",
       "      <th>empty3</th>\n",
       "      <th>strand</th>\n",
       "      <th>empty4</th>\n",
       "      <th>empty5</th>\n",
       "      <th>name2</th>\n",
       "    </tr>\n",
       "  </thead>\n",
       "  <tbody>\n",
       "  </tbody>\n",
       "</table>\n",
       "</div>"
      ],
      "text/plain": [
       "Empty DataFrame\n",
       "Columns: [chr, name1, empty1, start, end, empty2, empty3, strand, empty4, empty5, name2]\n",
       "Index: []"
      ]
     },
     "execution_count": 58,
     "metadata": {},
     "output_type": "execute_result"
    }
   ],
   "source": [
    "# create gff file from bed file genereated by CRUP\n",
    "gff = pd.DataFrame(columns = [\"chr\", \"name1\", \"empty1\", \"start\", \"end\", \"empty2\", \"empty3\", \"strand\", \"empty4\", \"empty5\", \"name2\"])\n",
    "# 11 columns in total\n",
    "gff.head()"
   ]
  },
  {
   "cell_type": "code",
   "execution_count": 59,
   "id": "029a77ec",
   "metadata": {},
   "outputs": [
    {
     "data": {
      "text/html": [
       "<div>\n",
       "<style scoped>\n",
       "    .dataframe tbody tr th:only-of-type {\n",
       "        vertical-align: middle;\n",
       "    }\n",
       "\n",
       "    .dataframe tbody tr th {\n",
       "        vertical-align: top;\n",
       "    }\n",
       "\n",
       "    .dataframe thead th {\n",
       "        text-align: right;\n",
       "    }\n",
       "</style>\n",
       "<table border=\"1\" class=\"dataframe\">\n",
       "  <thead>\n",
       "    <tr style=\"text-align: right;\">\n",
       "      <th></th>\n",
       "      <th>chr</th>\n",
       "      <th>name1</th>\n",
       "      <th>empty1</th>\n",
       "      <th>start</th>\n",
       "      <th>end</th>\n",
       "      <th>empty2</th>\n",
       "      <th>empty3</th>\n",
       "      <th>strand</th>\n",
       "      <th>empty4</th>\n",
       "      <th>empty5</th>\n",
       "      <th>name2</th>\n",
       "    </tr>\n",
       "  </thead>\n",
       "  <tbody>\n",
       "    <tr>\n",
       "      <th>0</th>\n",
       "      <td>chr1</td>\n",
       "      <td>islets_HI-32_CRUP_clusterEnh_0</td>\n",
       "      <td>NaN</td>\n",
       "      <td>761400</td>\n",
       "      <td>769000</td>\n",
       "      <td>NaN</td>\n",
       "      <td>NaN</td>\n",
       "      <td>.</td>\n",
       "      <td>NaN</td>\n",
       "      <td>NaN</td>\n",
       "      <td>islets_HI-32_CRUP_clusterEnh_0</td>\n",
       "    </tr>\n",
       "    <tr>\n",
       "      <th>1</th>\n",
       "      <td>chr1</td>\n",
       "      <td>islets_HI-32_CRUP_clusterEnh_1</td>\n",
       "      <td>NaN</td>\n",
       "      <td>873000</td>\n",
       "      <td>881300</td>\n",
       "      <td>NaN</td>\n",
       "      <td>NaN</td>\n",
       "      <td>.</td>\n",
       "      <td>NaN</td>\n",
       "      <td>NaN</td>\n",
       "      <td>islets_HI-32_CRUP_clusterEnh_1</td>\n",
       "    </tr>\n",
       "    <tr>\n",
       "      <th>2</th>\n",
       "      <td>chr1</td>\n",
       "      <td>islets_HI-32_CRUP_clusterEnh_2</td>\n",
       "      <td>NaN</td>\n",
       "      <td>1341000</td>\n",
       "      <td>1374900</td>\n",
       "      <td>NaN</td>\n",
       "      <td>NaN</td>\n",
       "      <td>.</td>\n",
       "      <td>NaN</td>\n",
       "      <td>NaN</td>\n",
       "      <td>islets_HI-32_CRUP_clusterEnh_2</td>\n",
       "    </tr>\n",
       "    <tr>\n",
       "      <th>3</th>\n",
       "      <td>chr1</td>\n",
       "      <td>islets_HI-32_CRUP_clusterEnh_3</td>\n",
       "      <td>NaN</td>\n",
       "      <td>7727100</td>\n",
       "      <td>7730400</td>\n",
       "      <td>NaN</td>\n",
       "      <td>NaN</td>\n",
       "      <td>.</td>\n",
       "      <td>NaN</td>\n",
       "      <td>NaN</td>\n",
       "      <td>islets_HI-32_CRUP_clusterEnh_3</td>\n",
       "    </tr>\n",
       "    <tr>\n",
       "      <th>4</th>\n",
       "      <td>chr1</td>\n",
       "      <td>islets_HI-32_CRUP_clusterEnh_4</td>\n",
       "      <td>NaN</td>\n",
       "      <td>8136300</td>\n",
       "      <td>8158400</td>\n",
       "      <td>NaN</td>\n",
       "      <td>NaN</td>\n",
       "      <td>.</td>\n",
       "      <td>NaN</td>\n",
       "      <td>NaN</td>\n",
       "      <td>islets_HI-32_CRUP_clusterEnh_4</td>\n",
       "    </tr>\n",
       "    <tr>\n",
       "      <th>5</th>\n",
       "      <td>chr1</td>\n",
       "      <td>islets_HI-32_CRUP_clusterEnh_5</td>\n",
       "      <td>NaN</td>\n",
       "      <td>8254300</td>\n",
       "      <td>8264000</td>\n",
       "      <td>NaN</td>\n",
       "      <td>NaN</td>\n",
       "      <td>.</td>\n",
       "      <td>NaN</td>\n",
       "      <td>NaN</td>\n",
       "      <td>islets_HI-32_CRUP_clusterEnh_5</td>\n",
       "    </tr>\n",
       "    <tr>\n",
       "      <th>6</th>\n",
       "      <td>chr1</td>\n",
       "      <td>islets_HI-32_CRUP_clusterEnh_6</td>\n",
       "      <td>NaN</td>\n",
       "      <td>8311500</td>\n",
       "      <td>8320900</td>\n",
       "      <td>NaN</td>\n",
       "      <td>NaN</td>\n",
       "      <td>.</td>\n",
       "      <td>NaN</td>\n",
       "      <td>NaN</td>\n",
       "      <td>islets_HI-32_CRUP_clusterEnh_6</td>\n",
       "    </tr>\n",
       "    <tr>\n",
       "      <th>7</th>\n",
       "      <td>chr1</td>\n",
       "      <td>islets_HI-32_CRUP_clusterEnh_7</td>\n",
       "      <td>NaN</td>\n",
       "      <td>8426600</td>\n",
       "      <td>8434500</td>\n",
       "      <td>NaN</td>\n",
       "      <td>NaN</td>\n",
       "      <td>.</td>\n",
       "      <td>NaN</td>\n",
       "      <td>NaN</td>\n",
       "      <td>islets_HI-32_CRUP_clusterEnh_7</td>\n",
       "    </tr>\n",
       "    <tr>\n",
       "      <th>8</th>\n",
       "      <td>chr1</td>\n",
       "      <td>islets_HI-32_CRUP_clusterEnh_8</td>\n",
       "      <td>NaN</td>\n",
       "      <td>8455200</td>\n",
       "      <td>8523900</td>\n",
       "      <td>NaN</td>\n",
       "      <td>NaN</td>\n",
       "      <td>.</td>\n",
       "      <td>NaN</td>\n",
       "      <td>NaN</td>\n",
       "      <td>islets_HI-32_CRUP_clusterEnh_8</td>\n",
       "    </tr>\n",
       "    <tr>\n",
       "      <th>9</th>\n",
       "      <td>chr1</td>\n",
       "      <td>islets_HI-32_CRUP_clusterEnh_9</td>\n",
       "      <td>NaN</td>\n",
       "      <td>8711900</td>\n",
       "      <td>8788100</td>\n",
       "      <td>NaN</td>\n",
       "      <td>NaN</td>\n",
       "      <td>.</td>\n",
       "      <td>NaN</td>\n",
       "      <td>NaN</td>\n",
       "      <td>islets_HI-32_CRUP_clusterEnh_9</td>\n",
       "    </tr>\n",
       "  </tbody>\n",
       "</table>\n",
       "</div>"
      ],
      "text/plain": [
       "    chr                           name1 empty1    start      end empty2  \\\n",
       "0  chr1  islets_HI-32_CRUP_clusterEnh_0    NaN   761400   769000    NaN   \n",
       "1  chr1  islets_HI-32_CRUP_clusterEnh_1    NaN   873000   881300    NaN   \n",
       "2  chr1  islets_HI-32_CRUP_clusterEnh_2    NaN  1341000  1374900    NaN   \n",
       "3  chr1  islets_HI-32_CRUP_clusterEnh_3    NaN  7727100  7730400    NaN   \n",
       "4  chr1  islets_HI-32_CRUP_clusterEnh_4    NaN  8136300  8158400    NaN   \n",
       "5  chr1  islets_HI-32_CRUP_clusterEnh_5    NaN  8254300  8264000    NaN   \n",
       "6  chr1  islets_HI-32_CRUP_clusterEnh_6    NaN  8311500  8320900    NaN   \n",
       "7  chr1  islets_HI-32_CRUP_clusterEnh_7    NaN  8426600  8434500    NaN   \n",
       "8  chr1  islets_HI-32_CRUP_clusterEnh_8    NaN  8455200  8523900    NaN   \n",
       "9  chr1  islets_HI-32_CRUP_clusterEnh_9    NaN  8711900  8788100    NaN   \n",
       "\n",
       "  empty3 strand empty4 empty5                           name2  \n",
       "0    NaN      .    NaN    NaN  islets_HI-32_CRUP_clusterEnh_0  \n",
       "1    NaN      .    NaN    NaN  islets_HI-32_CRUP_clusterEnh_1  \n",
       "2    NaN      .    NaN    NaN  islets_HI-32_CRUP_clusterEnh_2  \n",
       "3    NaN      .    NaN    NaN  islets_HI-32_CRUP_clusterEnh_3  \n",
       "4    NaN      .    NaN    NaN  islets_HI-32_CRUP_clusterEnh_4  \n",
       "5    NaN      .    NaN    NaN  islets_HI-32_CRUP_clusterEnh_5  \n",
       "6    NaN      .    NaN    NaN  islets_HI-32_CRUP_clusterEnh_6  \n",
       "7    NaN      .    NaN    NaN  islets_HI-32_CRUP_clusterEnh_7  \n",
       "8    NaN      .    NaN    NaN  islets_HI-32_CRUP_clusterEnh_8  \n",
       "9    NaN      .    NaN    NaN  islets_HI-32_CRUP_clusterEnh_9  "
      ]
     },
     "execution_count": 59,
     "metadata": {},
     "output_type": "execute_result"
    }
   ],
   "source": [
    "# assign values to column chr, start, end. name1, strand, name2\n",
    "gff.chr = [\"\".join([\"chr\", bed.chr[i]]) for i in range(bed.shape[0])]\n",
    "gff.start = bed.start\n",
    "gff.end = bed.end\n",
    "gff.strand = bed.strand\n",
    "gff.name1 = [\"_\".join([\"islets_HI-32_CRUP_clusterEnh\", str(i)]) for i in range(bed.shape[0])]\n",
    "gff.name2 = [\"_\".join([\"islets_HI-32_CRUP_clusterEnh\", str(i)]) for i in range(bed.shape[0])]\n",
    "gff.head()"
   ]
  },
  {
   "cell_type": "code",
   "execution_count": 62,
   "id": "dbd0baf8",
   "metadata": {},
   "outputs": [
    {
     "data": {
      "text/html": [
       "<div>\n",
       "<style scoped>\n",
       "    .dataframe tbody tr th:only-of-type {\n",
       "        vertical-align: middle;\n",
       "    }\n",
       "\n",
       "    .dataframe tbody tr th {\n",
       "        vertical-align: top;\n",
       "    }\n",
       "\n",
       "    .dataframe thead th {\n",
       "        text-align: right;\n",
       "    }\n",
       "</style>\n",
       "<table border=\"1\" class=\"dataframe\">\n",
       "  <thead>\n",
       "    <tr style=\"text-align: right;\">\n",
       "      <th></th>\n",
       "      <th>chr</th>\n",
       "      <th>name1</th>\n",
       "      <th>empty1</th>\n",
       "      <th>start</th>\n",
       "      <th>end</th>\n",
       "      <th>empty2</th>\n",
       "      <th>empty3</th>\n",
       "      <th>strand</th>\n",
       "      <th>empty4</th>\n",
       "      <th>empty5</th>\n",
       "      <th>name2</th>\n",
       "    </tr>\n",
       "  </thead>\n",
       "  <tbody>\n",
       "    <tr>\n",
       "      <th>0</th>\n",
       "      <td>chr1</td>\n",
       "      <td>islets_HI-32_CRUP_clusterEnh_0</td>\n",
       "      <td></td>\n",
       "      <td>761400</td>\n",
       "      <td>769000</td>\n",
       "      <td></td>\n",
       "      <td></td>\n",
       "      <td>.</td>\n",
       "      <td></td>\n",
       "      <td></td>\n",
       "      <td>islets_HI-32_CRUP_clusterEnh_0</td>\n",
       "    </tr>\n",
       "    <tr>\n",
       "      <th>1</th>\n",
       "      <td>chr1</td>\n",
       "      <td>islets_HI-32_CRUP_clusterEnh_1</td>\n",
       "      <td></td>\n",
       "      <td>873000</td>\n",
       "      <td>881300</td>\n",
       "      <td></td>\n",
       "      <td></td>\n",
       "      <td>.</td>\n",
       "      <td></td>\n",
       "      <td></td>\n",
       "      <td>islets_HI-32_CRUP_clusterEnh_1</td>\n",
       "    </tr>\n",
       "    <tr>\n",
       "      <th>2</th>\n",
       "      <td>chr1</td>\n",
       "      <td>islets_HI-32_CRUP_clusterEnh_2</td>\n",
       "      <td></td>\n",
       "      <td>1341000</td>\n",
       "      <td>1374900</td>\n",
       "      <td></td>\n",
       "      <td></td>\n",
       "      <td>.</td>\n",
       "      <td></td>\n",
       "      <td></td>\n",
       "      <td>islets_HI-32_CRUP_clusterEnh_2</td>\n",
       "    </tr>\n",
       "    <tr>\n",
       "      <th>3</th>\n",
       "      <td>chr1</td>\n",
       "      <td>islets_HI-32_CRUP_clusterEnh_3</td>\n",
       "      <td></td>\n",
       "      <td>7727100</td>\n",
       "      <td>7730400</td>\n",
       "      <td></td>\n",
       "      <td></td>\n",
       "      <td>.</td>\n",
       "      <td></td>\n",
       "      <td></td>\n",
       "      <td>islets_HI-32_CRUP_clusterEnh_3</td>\n",
       "    </tr>\n",
       "    <tr>\n",
       "      <th>4</th>\n",
       "      <td>chr1</td>\n",
       "      <td>islets_HI-32_CRUP_clusterEnh_4</td>\n",
       "      <td></td>\n",
       "      <td>8136300</td>\n",
       "      <td>8158400</td>\n",
       "      <td></td>\n",
       "      <td></td>\n",
       "      <td>.</td>\n",
       "      <td></td>\n",
       "      <td></td>\n",
       "      <td>islets_HI-32_CRUP_clusterEnh_4</td>\n",
       "    </tr>\n",
       "  </tbody>\n",
       "</table>\n",
       "</div>"
      ],
      "text/plain": [
       "    chr                           name1 empty1    start      end empty2  \\\n",
       "0  chr1  islets_HI-32_CRUP_clusterEnh_0          761400   769000          \n",
       "1  chr1  islets_HI-32_CRUP_clusterEnh_1          873000   881300          \n",
       "2  chr1  islets_HI-32_CRUP_clusterEnh_2         1341000  1374900          \n",
       "3  chr1  islets_HI-32_CRUP_clusterEnh_3         7727100  7730400          \n",
       "4  chr1  islets_HI-32_CRUP_clusterEnh_4         8136300  8158400          \n",
       "\n",
       "  empty3 strand empty4 empty5                           name2  \n",
       "0             .                islets_HI-32_CRUP_clusterEnh_0  \n",
       "1             .                islets_HI-32_CRUP_clusterEnh_1  \n",
       "2             .                islets_HI-32_CRUP_clusterEnh_2  \n",
       "3             .                islets_HI-32_CRUP_clusterEnh_3  \n",
       "4             .                islets_HI-32_CRUP_clusterEnh_4  "
      ]
     },
     "execution_count": 62,
     "metadata": {},
     "output_type": "execute_result"
    }
   ],
   "source": [
    "gff.fillna(\"\", inplace=True)\n",
    "gff.head()"
   ]
  },
  {
   "cell_type": "code",
   "execution_count": 63,
   "id": "1a638caa",
   "metadata": {},
   "outputs": [],
   "source": [
    "gff.to_csv(\"./ROSE/crup_data/islets.HI-32.CRUP.clusterEnh.gff\", sep=\"\\t\", header=False, index=False)"
   ]
  },
  {
   "cell_type": "markdown",
   "id": "5c7e0f75",
   "metadata": {},
   "source": [
    "# SRR access list & renaming"
   ]
  },
  {
   "cell_type": "code",
   "execution_count": 84,
   "id": "0297f047",
   "metadata": {},
   "outputs": [],
   "source": [
    "import pandas as pd\n",
    "import numpy as np\n",
    "import os\n",
    "import re"
   ]
  },
  {
   "cell_type": "code",
   "execution_count": 214,
   "id": "ebde7c04",
   "metadata": {},
   "outputs": [
    {
     "data": {
      "text/html": [
       "<div>\n",
       "<style scoped>\n",
       "    .dataframe tbody tr th:only-of-type {\n",
       "        vertical-align: middle;\n",
       "    }\n",
       "\n",
       "    .dataframe tbody tr th {\n",
       "        vertical-align: top;\n",
       "    }\n",
       "\n",
       "    .dataframe thead th {\n",
       "        text-align: right;\n",
       "    }\n",
       "</style>\n",
       "<table border=\"1\" class=\"dataframe\">\n",
       "  <thead>\n",
       "    <tr style=\"text-align: right;\">\n",
       "      <th></th>\n",
       "      <th>Run</th>\n",
       "      <th>BioSample</th>\n",
       "      <th>AvgSpotLen</th>\n",
       "      <th>Bases</th>\n",
       "      <th>Bytes</th>\n",
       "      <th>Cell_type</th>\n",
       "      <th>chip_antibody</th>\n",
       "      <th>Experiment</th>\n",
       "      <th>GEO_Accession</th>\n",
       "      <th>Sample Name</th>\n",
       "      <th>STAGE</th>\n",
       "    </tr>\n",
       "  </thead>\n",
       "  <tbody>\n",
       "    <tr>\n",
       "      <th>0</th>\n",
       "      <td>SRR10466342</td>\n",
       "      <td>SAMN13293860</td>\n",
       "      <td>60</td>\n",
       "      <td>499.49 M</td>\n",
       "      <td>245.96 Mb</td>\n",
       "      <td>hPSC-derived definitive endoderm</td>\n",
       "      <td>H3K27ac (Active Motif: 39133)</td>\n",
       "      <td>SRX7157628</td>\n",
       "      <td>GSM4171646</td>\n",
       "      <td>GSM4171646</td>\n",
       "      <td>Stage 1 day 3</td>\n",
       "    </tr>\n",
       "    <tr>\n",
       "      <th>1</th>\n",
       "      <td>SRR10466343</td>\n",
       "      <td>SAMN13293860</td>\n",
       "      <td>60</td>\n",
       "      <td>523.25 M</td>\n",
       "      <td>255.38 Mb</td>\n",
       "      <td>hPSC-derived definitive endoderm</td>\n",
       "      <td>H3K27ac (Active Motif: 39133)</td>\n",
       "      <td>SRX7157628</td>\n",
       "      <td>GSM4171646</td>\n",
       "      <td>GSM4171646</td>\n",
       "      <td>Stage 1 day 3</td>\n",
       "    </tr>\n",
       "    <tr>\n",
       "      <th>2</th>\n",
       "      <td>SRR10466344</td>\n",
       "      <td>SAMN13293859</td>\n",
       "      <td>60</td>\n",
       "      <td>432.13 M</td>\n",
       "      <td>212.61 Mb</td>\n",
       "      <td>hPSC-derived definitive endoderm</td>\n",
       "      <td>H3K27ac (Active Motif: 39133)</td>\n",
       "      <td>SRX7157629</td>\n",
       "      <td>GSM4171647</td>\n",
       "      <td>GSM4171647</td>\n",
       "      <td>Stage 1 day 3</td>\n",
       "    </tr>\n",
       "    <tr>\n",
       "      <th>3</th>\n",
       "      <td>SRR10466345</td>\n",
       "      <td>SAMN13293859</td>\n",
       "      <td>60</td>\n",
       "      <td>453.58 M</td>\n",
       "      <td>221.27 Mb</td>\n",
       "      <td>hPSC-derived definitive endoderm</td>\n",
       "      <td>H3K27ac (Active Motif: 39133)</td>\n",
       "      <td>SRX7157629</td>\n",
       "      <td>GSM4171647</td>\n",
       "      <td>GSM4171647</td>\n",
       "      <td>Stage 1 day 3</td>\n",
       "    </tr>\n",
       "    <tr>\n",
       "      <th>4</th>\n",
       "      <td>SRR10466346</td>\n",
       "      <td>SAMN13293858</td>\n",
       "      <td>60</td>\n",
       "      <td>541.65 M</td>\n",
       "      <td>260.45 Mb</td>\n",
       "      <td>hPSC-derived definitive endoderm</td>\n",
       "      <td>none</td>\n",
       "      <td>SRX7157630</td>\n",
       "      <td>GSM4171648</td>\n",
       "      <td>GSM4171648</td>\n",
       "      <td>Stage 1 day 3</td>\n",
       "    </tr>\n",
       "  </tbody>\n",
       "</table>\n",
       "</div>"
      ],
      "text/plain": [
       "           Run     BioSample  AvgSpotLen     Bases      Bytes  \\\n",
       "0  SRR10466342  SAMN13293860          60  499.49 M  245.96 Mb   \n",
       "1  SRR10466343  SAMN13293860          60  523.25 M  255.38 Mb   \n",
       "2  SRR10466344  SAMN13293859          60  432.13 M  212.61 Mb   \n",
       "3  SRR10466345  SAMN13293859          60  453.58 M  221.27 Mb   \n",
       "4  SRR10466346  SAMN13293858          60  541.65 M  260.45 Mb   \n",
       "\n",
       "                          Cell_type                  chip_antibody  \\\n",
       "0  hPSC-derived definitive endoderm  H3K27ac (Active Motif: 39133)   \n",
       "1  hPSC-derived definitive endoderm  H3K27ac (Active Motif: 39133)   \n",
       "2  hPSC-derived definitive endoderm  H3K27ac (Active Motif: 39133)   \n",
       "3  hPSC-derived definitive endoderm  H3K27ac (Active Motif: 39133)   \n",
       "4  hPSC-derived definitive endoderm                           none   \n",
       "\n",
       "   Experiment GEO_Accession Sample Name          STAGE  \n",
       "0  SRX7157628    GSM4171646  GSM4171646  Stage 1 day 3  \n",
       "1  SRX7157628    GSM4171646  GSM4171646  Stage 1 day 3  \n",
       "2  SRX7157629    GSM4171647  GSM4171647  Stage 1 day 3  \n",
       "3  SRX7157629    GSM4171647  GSM4171647  Stage 1 day 3  \n",
       "4  SRX7157630    GSM4171648  GSM4171648  Stage 1 day 3  "
      ]
     },
     "execution_count": 214,
     "metadata": {},
     "output_type": "execute_result"
    }
   ],
   "source": [
    "ls = pd.read_csv(\"./ChIP-seq/Meissner/SRR_ChIP-seq_acc_list.txt\", header=0, index_col=None, sep=\"\\t\", usecols=range(1, 12))\n",
    "ls.head(5)"
   ]
  },
  {
   "cell_type": "code",
   "execution_count": 219,
   "id": "d08daca2",
   "metadata": {},
   "outputs": [],
   "source": [
    "ls[\"abbr\"] = pd.Series([\"DE\"]*6 + [\"PP1\"]*6 + [\"PP2\"]*4 + [\"EN\"]*6 + [\"SC-beta\"]*6 + [\"PH\"]*4 + [\"alpha\"]*2 + [\"beta\"]*2 + [\"EN\"]*2 + [\"SC-beta\"]*2 + [\"PH\"]*2)\n",
    "\n",
    "\n",
    "antibody = []\n",
    "for i in ls.chip_antibody:\n",
    "    if re.match(\"H\", i):\n",
    "        antibody += [i.split(\" \")[0]]\n",
    "    else:\n",
    "        antibody += [\"WCE\"]\n",
    "ls[\"antibody\"] = pd.Series(antibody)\n",
    "\n",
    "rep = []\n",
    "for i in ls.groupby(by=[\"abbr\", \"antibody\"], sort=False).size():\n",
    "    if i%4 == 0:\n",
    "        rep += [\"rep1\"]*2 + [\"rep2\"]*2\n",
    "    else:\n",
    "        rep += [\"rep1\"]*2\n",
    "ls[\"rep\"] = pd.Series(rep)\n",
    "\n",
    "ls[\"run\"] = pd.Series([\"run1\", \"run2\"]*21)\n",
    "\n",
    "ls[\"filename\"] = pd.Series([\"_\".join(ls.loc[i, [\"abbr\", \"antibody\", \"rep\", \"run\"]]) for i in range(len(ls))])"
   ]
  },
  {
   "cell_type": "code",
   "execution_count": 222,
   "id": "ee0df9a2",
   "metadata": {},
   "outputs": [
    {
     "data": {
      "text/html": [
       "<div>\n",
       "<style scoped>\n",
       "    .dataframe tbody tr th:only-of-type {\n",
       "        vertical-align: middle;\n",
       "    }\n",
       "\n",
       "    .dataframe tbody tr th {\n",
       "        vertical-align: top;\n",
       "    }\n",
       "\n",
       "    .dataframe thead th {\n",
       "        text-align: right;\n",
       "    }\n",
       "</style>\n",
       "<table border=\"1\" class=\"dataframe\">\n",
       "  <thead>\n",
       "    <tr style=\"text-align: right;\">\n",
       "      <th></th>\n",
       "      <th>Run</th>\n",
       "      <th>BioSample</th>\n",
       "      <th>AvgSpotLen</th>\n",
       "      <th>Bases</th>\n",
       "      <th>Bytes</th>\n",
       "      <th>Cell_type</th>\n",
       "      <th>chip_antibody</th>\n",
       "      <th>Experiment</th>\n",
       "      <th>GEO_Accession</th>\n",
       "      <th>Sample Name</th>\n",
       "      <th>STAGE</th>\n",
       "      <th>abbr</th>\n",
       "      <th>antibody</th>\n",
       "      <th>rep</th>\n",
       "      <th>run</th>\n",
       "      <th>filename</th>\n",
       "    </tr>\n",
       "  </thead>\n",
       "  <tbody>\n",
       "    <tr>\n",
       "      <th>37</th>\n",
       "      <td>SRR10466379</td>\n",
       "      <td>SAMN13293863</td>\n",
       "      <td>50</td>\n",
       "      <td>2.67 G</td>\n",
       "      <td>1.48 Gb</td>\n",
       "      <td>hPSC-derived endocrine progenitor</td>\n",
       "      <td>H3K4me1 (Millipore: 17-614)</td>\n",
       "      <td>SRX7157646</td>\n",
       "      <td>GSM4171664</td>\n",
       "      <td>GSM4171664</td>\n",
       "      <td>Stage 5 day 3</td>\n",
       "      <td>EN</td>\n",
       "      <td>H3K4me1</td>\n",
       "      <td>rep1</td>\n",
       "      <td>run2</td>\n",
       "      <td>EN_H3K4me1_rep1_run2</td>\n",
       "    </tr>\n",
       "    <tr>\n",
       "      <th>38</th>\n",
       "      <td>SRR10466380</td>\n",
       "      <td>SAMN13293862</td>\n",
       "      <td>50</td>\n",
       "      <td>382.39 M</td>\n",
       "      <td>220.03 Mb</td>\n",
       "      <td>hPSC-derived beta cell</td>\n",
       "      <td>H3K4me1 (Millipore: 17-614)</td>\n",
       "      <td>SRX7157647</td>\n",
       "      <td>GSM4171665</td>\n",
       "      <td>GSM4171665</td>\n",
       "      <td>Stage 6 day 8</td>\n",
       "      <td>SC-beta</td>\n",
       "      <td>H3K4me1</td>\n",
       "      <td>rep1</td>\n",
       "      <td>run1</td>\n",
       "      <td>SC-beta_H3K4me1_rep1_run1</td>\n",
       "    </tr>\n",
       "    <tr>\n",
       "      <th>39</th>\n",
       "      <td>SRR10466381</td>\n",
       "      <td>SAMN13293862</td>\n",
       "      <td>50</td>\n",
       "      <td>386.75 M</td>\n",
       "      <td>223.55 Mb</td>\n",
       "      <td>hPSC-derived beta cell</td>\n",
       "      <td>H3K4me1 (Millipore: 17-614)</td>\n",
       "      <td>SRX7157647</td>\n",
       "      <td>GSM4171665</td>\n",
       "      <td>GSM4171665</td>\n",
       "      <td>Stage 6 day 8</td>\n",
       "      <td>SC-beta</td>\n",
       "      <td>H3K4me1</td>\n",
       "      <td>rep1</td>\n",
       "      <td>run2</td>\n",
       "      <td>SC-beta_H3K4me1_rep1_run2</td>\n",
       "    </tr>\n",
       "    <tr>\n",
       "      <th>40</th>\n",
       "      <td>SRR10466382</td>\n",
       "      <td>SAMN13293861</td>\n",
       "      <td>50</td>\n",
       "      <td>1.82 G</td>\n",
       "      <td>1.01 Gb</td>\n",
       "      <td>hPSC-derived poly-hormonal cell</td>\n",
       "      <td>H3K4me1 (Millipore: 17-614)</td>\n",
       "      <td>SRX7157648</td>\n",
       "      <td>GSM4171666</td>\n",
       "      <td>GSM4171666</td>\n",
       "      <td>Stage 6 day 8</td>\n",
       "      <td>PH</td>\n",
       "      <td>H3K4me1</td>\n",
       "      <td>rep1</td>\n",
       "      <td>run1</td>\n",
       "      <td>PH_H3K4me1_rep1_run1</td>\n",
       "    </tr>\n",
       "    <tr>\n",
       "      <th>41</th>\n",
       "      <td>SRR10466383</td>\n",
       "      <td>SAMN13293861</td>\n",
       "      <td>50</td>\n",
       "      <td>1.85 G</td>\n",
       "      <td>1.03 Gb</td>\n",
       "      <td>hPSC-derived poly-hormonal cell</td>\n",
       "      <td>H3K4me1 (Millipore: 17-614)</td>\n",
       "      <td>SRX7157648</td>\n",
       "      <td>GSM4171666</td>\n",
       "      <td>GSM4171666</td>\n",
       "      <td>Stage 6 day 8</td>\n",
       "      <td>PH</td>\n",
       "      <td>H3K4me1</td>\n",
       "      <td>rep1</td>\n",
       "      <td>run2</td>\n",
       "      <td>PH_H3K4me1_rep1_run2</td>\n",
       "    </tr>\n",
       "  </tbody>\n",
       "</table>\n",
       "</div>"
      ],
      "text/plain": [
       "            Run     BioSample  AvgSpotLen     Bases      Bytes  \\\n",
       "37  SRR10466379  SAMN13293863          50    2.67 G    1.48 Gb   \n",
       "38  SRR10466380  SAMN13293862          50  382.39 M  220.03 Mb   \n",
       "39  SRR10466381  SAMN13293862          50  386.75 M  223.55 Mb   \n",
       "40  SRR10466382  SAMN13293861          50    1.82 G    1.01 Gb   \n",
       "41  SRR10466383  SAMN13293861          50    1.85 G    1.03 Gb   \n",
       "\n",
       "                            Cell_type                chip_antibody  \\\n",
       "37  hPSC-derived endocrine progenitor  H3K4me1 (Millipore: 17-614)   \n",
       "38             hPSC-derived beta cell  H3K4me1 (Millipore: 17-614)   \n",
       "39             hPSC-derived beta cell  H3K4me1 (Millipore: 17-614)   \n",
       "40    hPSC-derived poly-hormonal cell  H3K4me1 (Millipore: 17-614)   \n",
       "41    hPSC-derived poly-hormonal cell  H3K4me1 (Millipore: 17-614)   \n",
       "\n",
       "    Experiment GEO_Accession Sample Name          STAGE     abbr antibody  \\\n",
       "37  SRX7157646    GSM4171664  GSM4171664  Stage 5 day 3       EN  H3K4me1   \n",
       "38  SRX7157647    GSM4171665  GSM4171665  Stage 6 day 8  SC-beta  H3K4me1   \n",
       "39  SRX7157647    GSM4171665  GSM4171665  Stage 6 day 8  SC-beta  H3K4me1   \n",
       "40  SRX7157648    GSM4171666  GSM4171666  Stage 6 day 8       PH  H3K4me1   \n",
       "41  SRX7157648    GSM4171666  GSM4171666  Stage 6 day 8       PH  H3K4me1   \n",
       "\n",
       "     rep   run                   filename  \n",
       "37  rep1  run2       EN_H3K4me1_rep1_run2  \n",
       "38  rep1  run1  SC-beta_H3K4me1_rep1_run1  \n",
       "39  rep1  run2  SC-beta_H3K4me1_rep1_run2  \n",
       "40  rep1  run1       PH_H3K4me1_rep1_run1  \n",
       "41  rep1  run2       PH_H3K4me1_rep1_run2  "
      ]
     },
     "execution_count": 222,
     "metadata": {},
     "output_type": "execute_result"
    }
   ],
   "source": [
    "ls.tail()"
   ]
  },
  {
   "cell_type": "code",
   "execution_count": 221,
   "id": "1c3087e0",
   "metadata": {},
   "outputs": [],
   "source": [
    "ls.to_csv(\"./ChIP-seq/Meissner/SRR_ChIP-seq_acc_list.txt\", sep=\"\\t\", header=True, index=None)"
   ]
  },
  {
   "cell_type": "code",
   "execution_count": 225,
   "id": "eefd75c4",
   "metadata": {},
   "outputs": [
    {
     "data": {
      "text/plain": [
       "(42, 16)"
      ]
     },
     "execution_count": 225,
     "metadata": {},
     "output_type": "execute_result"
    }
   ],
   "source": [
    "ls.shape"
   ]
  },
  {
   "cell_type": "code",
   "execution_count": null,
   "id": "798f16e8",
   "metadata": {},
   "outputs": [],
   "source": []
  }
 ],
 "metadata": {
  "kernelspec": {
   "display_name": "Python 3 (ipykernel)",
   "language": "python",
   "name": "python3"
  },
  "language_info": {
   "codemirror_mode": {
    "name": "ipython",
    "version": 3
   },
   "file_extension": ".py",
   "mimetype": "text/x-python",
   "name": "python",
   "nbconvert_exporter": "python",
   "pygments_lexer": "ipython3",
   "version": "3.9.12"
  },
  "latex_envs": {
   "LaTeX_envs_menu_present": true,
   "autoclose": false,
   "autocomplete": true,
   "bibliofile": "biblio.bib",
   "cite_by": "apalike",
   "current_citInitial": 1,
   "eqLabelWithNumbers": true,
   "eqNumInitial": 1,
   "hotkeys": {
    "equation": "Ctrl-E",
    "itemize": "Ctrl-I"
   },
   "labels_anchors": false,
   "latex_user_defs": false,
   "report_style_numbering": false,
   "user_envs_cfg": false
  },
  "toc": {
   "base_numbering": 1,
   "nav_menu": {},
   "number_sections": true,
   "sideBar": true,
   "skip_h1_title": false,
   "title_cell": "Table of Contents",
   "title_sidebar": "Contents",
   "toc_cell": false,
   "toc_position": {},
   "toc_section_display": true,
   "toc_window_display": false
  },
  "varInspector": {
   "cols": {
    "lenName": 16,
    "lenType": 16,
    "lenVar": 40
   },
   "kernels_config": {
    "python": {
     "delete_cmd_postfix": "",
     "delete_cmd_prefix": "del ",
     "library": "var_list.py",
     "varRefreshCmd": "print(var_dic_list())"
    },
    "r": {
     "delete_cmd_postfix": ") ",
     "delete_cmd_prefix": "rm(",
     "library": "var_list.r",
     "varRefreshCmd": "cat(var_dic_list()) "
    }
   },
   "types_to_exclude": [
    "module",
    "function",
    "builtin_function_or_method",
    "instance",
    "_Feature"
   ],
   "window_display": false
  }
 },
 "nbformat": 4,
 "nbformat_minor": 5
}

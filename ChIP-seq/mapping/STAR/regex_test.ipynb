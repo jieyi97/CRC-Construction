{
 "cells": [
  {
   "cell_type": "code",
   "execution_count": 12,
   "id": "a2d4c623",
   "metadata": {},
   "outputs": [],
   "source": [
    "import os\n",
    "import re"
   ]
  },
  {
   "cell_type": "code",
   "execution_count": 10,
   "id": "55afb576",
   "metadata": {},
   "outputs": [
    {
     "data": {
      "text/plain": [
       "'/project/NeuralNet/CRC/ChIP-seq/mapping/STAR/rmdup_bam'"
      ]
     },
     "execution_count": 10,
     "metadata": {},
     "output_type": "execute_result"
    }
   ],
   "source": [
    "os.getcwd()"
   ]
  },
  {
   "cell_type": "code",
   "execution_count": 11,
   "id": "efc2cf4a",
   "metadata": {},
   "outputs": [
    {
     "data": {
      "text/plain": [
       "['H3K27ac_HI-32.bam.bai',\n",
       " 'H3K27ac_HI-45.bam',\n",
       " 'H3K27ac_HI-45.bam.bai',\n",
       " 'H3K4me1_HI-21.bam',\n",
       " 'H3K4me1_HI-21.bam.bai',\n",
       " 'H3K4me1_HI-25.bam',\n",
       " 'H3K4me1_HI-25.bam.bai',\n",
       " 'H3K4me1_HI-32.bam.bai',\n",
       " 'H3K4me3_HI-21.bam',\n",
       " 'H3K4me3_HI-21.bam.bai',\n",
       " 'H3K4me3_HI-25.bam',\n",
       " 'H3K4me3_HI-25.bam.bai',\n",
       " 'H3K4me3_HI-32.bam.bai',\n",
       " 'H3K27ac_HI-32.bam',\n",
       " 'H3K4me1_HI-32.bam',\n",
       " 'H3K4me3_HI-32.bam']"
      ]
     },
     "execution_count": 11,
     "metadata": {},
     "output_type": "execute_result"
    }
   ],
   "source": [
    "os.listdir(os.getcwd())"
   ]
  },
  {
   "cell_type": "code",
   "execution_count": 9,
   "id": "2849d5f6",
   "metadata": {},
   "outputs": [],
   "source": [
    "os.chdir(os.getcwd()+\"/rmdup_bam/\")"
   ]
  },
  {
   "cell_type": "code",
   "execution_count": 19,
   "id": "78d035b0",
   "metadata": {},
   "outputs": [
    {
     "data": {
      "text/plain": [
       "['HI-32',\n",
       " 'HI-45',\n",
       " 'HI-45',\n",
       " 'HI-21',\n",
       " 'HI-21',\n",
       " 'HI-25',\n",
       " 'HI-25',\n",
       " 'HI-32',\n",
       " 'HI-21',\n",
       " 'HI-21',\n",
       " 'HI-25',\n",
       " 'HI-25',\n",
       " 'HI-32',\n",
       " 'HI-32',\n",
       " 'HI-32',\n",
       " 'HI-32']"
      ]
     },
     "execution_count": 19,
     "metadata": {},
     "output_type": "execute_result"
    }
   ],
   "source": [
    "re.findall(r\"(HI.\\d+)\", str(os.listdir(os.getcwd())))"
   ]
  },
  {
   "cell_type": "code",
   "execution_count": 14,
   "id": "323132a6",
   "metadata": {},
   "outputs": [
    {
     "data": {
      "text/plain": [
       "\"['H3K27ac_HI-32.bam.bai', 'H3K27ac_HI-45.bam', 'H3K27ac_HI-45.bam.bai', 'H3K4me1_HI-21.bam', 'H3K4me1_HI-21.bam.bai', 'H3K4me1_HI-25.bam', 'H3K4me1_HI-25.bam.bai', 'H3K4me1_HI-32.bam.bai', 'H3K4me3_HI-21.bam', 'H3K4me3_HI-21.bam.bai', 'H3K4me3_HI-25.bam', 'H3K4me3_HI-25.bam.bai', 'H3K4me3_HI-32.bam.bai', 'H3K27ac_HI-32.bam', 'H3K4me1_HI-32.bam', 'H3K4me3_HI-32.bam']\""
      ]
     },
     "execution_count": 14,
     "metadata": {},
     "output_type": "execute_result"
    }
   ],
   "source": [
    "str(os.listdir(os.getcwd()))"
   ]
  },
  {
   "cell_type": "code",
   "execution_count": null,
   "id": "767fc097",
   "metadata": {},
   "outputs": [],
   "source": []
  }
 ],
 "metadata": {
  "kernelspec": {
   "display_name": "Python 3 (ipykernel)",
   "language": "python",
   "name": "python3"
  },
  "language_info": {
   "codemirror_mode": {
    "name": "ipython",
    "version": 3
   },
   "file_extension": ".py",
   "mimetype": "text/x-python",
   "name": "python",
   "nbconvert_exporter": "python",
   "pygments_lexer": "ipython3",
   "version": "3.8.12"
  },
  "latex_envs": {
   "LaTeX_envs_menu_present": true,
   "autoclose": false,
   "autocomplete": true,
   "bibliofile": "biblio.bib",
   "cite_by": "apalike",
   "current_citInitial": 1,
   "eqLabelWithNumbers": true,
   "eqNumInitial": 1,
   "hotkeys": {
    "equation": "Ctrl-E",
    "itemize": "Ctrl-I"
   },
   "labels_anchors": false,
   "latex_user_defs": false,
   "report_style_numbering": false,
   "user_envs_cfg": false
  },
  "toc": {
   "base_numbering": 1,
   "nav_menu": {},
   "number_sections": true,
   "sideBar": true,
   "skip_h1_title": false,
   "title_cell": "Table of Contents",
   "title_sidebar": "Contents",
   "toc_cell": false,
   "toc_position": {},
   "toc_section_display": true,
   "toc_window_display": false
  }
 },
 "nbformat": 4,
 "nbformat_minor": 5
}
